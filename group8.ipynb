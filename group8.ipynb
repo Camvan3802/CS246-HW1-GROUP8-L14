{
  "cells": [
    {
      "cell_type": "markdown",
      "metadata": {
        "id": "8m7lozNw_yVn"
      },
      "source": [
        "# **Bài tập lớn - HOMEWORK 1**\n",
        "\n",
        "# **Nhóm 8 - Lớp học phần: L14**\n",
        "\n",
        "**Thành viên nhóm 8:**\n",
        "\n",
        "* **Huỳnh Nguyễn Phương Linh - MSSV: 050608200413**\n",
        "\n",
        "* **Chu Thị Cẩm Vân - MSSV: 050608200759**\n",
        "\n",
        "* **Trần Thanh Xuân - MSSV: 050608200202**  "
      ]
    },
    {
      "cell_type": "markdown",
      "metadata": {
        "id": "soKi_EjdTwSq"
      },
      "source": [
        "\n",
        "*   Dữ liệu được tải lên https://drive.google.com/drive/u/0/folders/1qNfgfc5UPcXJKM2YMOgZLZDdk139f2QN\n",
        "*  Các tệp dữ liệu được tải từ homework1 trong CS246\n",
        "\n",
        "\n"
      ]
    },
    {
      "cell_type": "markdown",
      "metadata": {
        "id": "JdKbzc8nefvz"
      },
      "source": [
        "# **Câu 1:  LSH for Approximate Near Neighbor Search**"
      ]
    },
    {
      "attachments": {},
      "cell_type": "markdown",
      "metadata": {
        "id": "ghvb1TOCVFFu"
      },
      "source": [
        "## Câu a: Đặt $W_j = {x \\in A | g_j(x) = g_j(z)} (1 \\le j \\le L)$ là tập hợp các điểm dữ liệu $x$ ánh xạ tới cùng một giá trị với điểm truy vấn z bằng hàm băm $g_j$. Xác định $T = {x \\in A|d(x, z) > cλ}$. Chứng minh: $Pr[\\sum_{j=1}^L|T ∩ Wj| \\ge 3L] \\le 13 $."
      ]
    },
    {
      "attachments": {},
      "cell_type": "markdown",
      "metadata": {
        "id": "k0USjncKVH57"
      },
      "source": [
        "Trước hết, chúng ta xác định các tập hợp $W_j$ và $T$ như đã đề cập trong câu hỏi. Đối với mỗi hàm băm $g_j$, tập hợp Wj chứa tất cả các điểm dữ liệu mà ánh xạ đến cùng một giá trị như điểm truy vấn z, và tập hợp $T$ chứa tất cả các điểm dữ liệu cách $z$ hơn $cλ$. Chúng ta muốn chứng minh rằng xác suất tìm thấy nhiều hơn $3L$ điểm dữ liệu trong phần giao giữa $T$ và mỗi $W_j$ là nhỏ.\n",
        "\n",
        "Giải pháp đã cho cung cấp một giới hạn trên kích thước kỳ vọng của sự giao giữa $T$ và mỗi $W_j$. Cụ thể, đối với mỗi $1 \\le j \\le L$, chúng ta có:\n",
        "\n",
        "$Pr[x \\in T ∩ W_j] \\le p{k \\choose 2} = \\displaystyle\\frac{1}{n}$,\n",
        "\n",
        "Điều đó có nghĩa là xác suất một điểm dữ liệu bất kỳ x nằm cùng trong $T$ và $W_j$ không quá $\\displaystyle\\frac{1}{n}$. Do đó, chúng ta có thể viết:\n",
        "\n",
        "$E[|T ∩ W_j|] = \\sum x \\in A Pr[x \\in T ∩ W_j] \\le \\sum_{x \\in A} Pr[x \\in T] Pr[x \\in W_j] \\le pk2 = \\displaystyle\\frac{1}{n}$.\n",
        "\n",
        "Sử dụng tính tuyến tính của kỳ vọng, chúng ta có:\n",
        " \n",
        "$E[\\sum_{j=1}^LE[PLj=1 |T ∩ W_j|]] \\le LE[|T ∩ W_j|] \\le \\displaystyle\\frac{L}{n}$.\n",
        "\n",
        "Bây giờ, chúng ta có thể áp dụng bất đẳng thức Markov để có được:\n",
        "\n",
        "$Pr[\\sum_{j=1}^L|T ∩ W_j| > 3L] \\le \\displaystyle\\frac{E[\\sum_{j=1}^L|T ∩ W_j|]}{3L} \\le \\displaystyle\\frac{1}{3}$.\n",
        "\n",
        "Do đó, xác suất tìm thấy nhiều hơn $3L$ điểm dữ liệu trong phần giao giữa $T$ và mỗi $W_j$ không quá $\\displaystyle\\frac{1}{3}$, điều đó có nghĩa là với xác suất ít nhất là $\\displaystyle\\frac{2}{3}$, chúng ta sẽ không tìm thấy nhiều hơn 3L điểm dữ liệu như vậy. Điều này hoàn thành bằng chứng.\n"
      ]
    },
    {
      "attachments": {},
      "cell_type": "markdown",
      "metadata": {
        "id": "0tBIKguxVbvM"
      },
      "source": [
        "## Câu b: Gọi $x^∗ \\in A$ là một điểm sao cho $d( x^∗ , z) \\le λ$. Chứng minh:\n",
        "\n",
        "$Pr[\\forall 1 \\le j \\le L, g_j( x^∗ ) \\ne g_j(z)] , g_j(x) g_j(z) < 1e$ .\n",
        "\n",
        "Để chứng minh: $Pr [\\forall 1 \\le j \\le L, g_j( x^∗ ) \\ne g_j(z)] < 1e$\n",
        "\n",
        "Trong đó $x^∗$ là một điểm trong A sao cho $d( x^∗ , z) \\le λ$."
      ]
    },
    {
      "attachments": {},
      "cell_type": "markdown",
      "metadata": {
        "id": "IZNSEYLkVfbA"
      },
      "source": [
        "Để chứng minh: $Pr [\\forall j: 1 \\le j \\le L, g_j(x^{*}) \\ne g_j(z)] < \\displaystyle\\frac{1}{e}$\n",
        "\n",
        "Trong đó $x^{*}$\n",
        " là một điểm trong A sao cho $d(x^{*}, z) \\le λ$.\n",
        "\n",
        "Để làm được điều này, ta có thể bắt đầu bằng việc sử dụng sự thật rằng đối với bất kỳ $1 \\le j \\le L$ nào, ta có:\n",
        "\n",
        "$Pr[g_j(x^{*}) = g_j(z)] \\ge pk1$\n",
        "\n",
        "Trong đó pk1 là xác suất rằng $g_j(x^{*}) = g_j(z)$, được định nghĩa trong câu hỏi.\n",
        "\n",
        "Ta có thể sử dụng bất đẳng thức trên để thu được một giới hạn trên cho xác suất rằng $g_j(x^{*}) \\ne g_j(z)$, như sau:\n",
        "\n",
        "$Pr[g_j(x^{*}) \\ne g_j(z)] \\le 1 - Pr[g_j(x^{*}) = g_j(z)]$ \n",
        "\n",
        "$\\le 1 - pk1$\n",
        "\n",
        "= 1 - $p^{\\displaystyle\\frac{log1}{p2(n)}}$) _ 1 (thay thế pk1 bằng định nghĩa của nó) \n",
        "\n",
        "= 1 - $(\\displaystyle\\frac{1}{n})^{\\displaystyle\\frac{log1}{p2(n)}}$\n",
        "\n",
        "= 1 - $(\\displaystyle\\frac{1}{n})^{p}$\n",
        " (với $ρ = \\displaystyle\\frac{log(\\displaystyle\\frac{1}{p1})}{log(\\displaystyle\\frac{1}{p2})})$\n",
        "\n",
        "= 1 - $\\displaystyle\\frac{1}{L}$\n",
        "\n",
        "= $\\displaystyle\\frac{(L-1)}{L}$\n",
        "\n",
        "trong đó ta đã sử dụng thực tế rằng k = $\\displaystyle\\frac{log1}{p2(n)}$, do đó L = $n^{p}$.\n",
        "\n",
        "Tiếp theo, ta có thể sử dụng bất đẳng thức trên để thu được một giới hạn trên cho xác suất rằng tất cả các $g_j$ đều thỏa mãn $g_j(x^{*}) \\ne g_j(z)$, như sau:\n",
        "\n",
        "$Pr [\\forall j: 1 \\le j \\le L, g_j(x^{*}) \\ne g_j(z)]$ \n",
        "\n",
        "$\\le \\prod_{j=1}^L Pr[g_j(x^{*}) \\ne g_j(z)]$ (sử dụng kết hợp liên minh) \n",
        "\n",
        "$\\le (\\displaystyle\\frac{L-1}{L})^{L}$ \n",
        "\n",
        "$\\le e^{-1}$\n",
        "\n",
        "Trong đó ta đã sử dụng thực tế rằng (1 - $\\displaystyle\\frac{1}{L})^{L}$ ≤ $\\displaystyle\\frac{1}{e}$ cho bất kỳ số nguyên dương L nào.\n",
        "\n",
        "Do đó, ta đã chứng minh được rằng:\n",
        "\n",
        "$Pr [\\forall j: 1 \\le j \\le L, g_j(x^{*}) \\ne g_j(z)] < \\displaystyle\\frac{1}{e}$"
      ]
    },
    {
      "attachments": {},
      "cell_type": "markdown",
      "metadata": {
        "id": "p-jlINXsVncC"
      },
      "source": [
        "## Câu c: Kết luận rằng với xác suất lớn hơn một hằng số cố định nào đó, điểm báo cáo là một thật sự (c, λ)-ANN."
      ]
    },
    {
      "attachments": {},
      "cell_type": "markdown",
      "metadata": {
        "id": "EtFRcDC2bNiE"
      },
      "source": [
        "Để kết luận rằng với xác suất lớn hơn một hằng số cố định thì điểm được báo cáo là một (c, λ)-ANN thực sự, chúng ta cần chỉ ra rằng xác suất thất bại được giới hạn bởi một hằng số. Điều này có thể thực hiện bằng cách kết hợp kết quả từ phần (a) và phần (b).\n",
        "\n",
        "Giả sử $x^{*}$ là hàng xóm gần nhất thực sự với điểm truy vấn z với khoảng cách $d (x^{*}, z) \\le λ$. Từ phần (b), chúng ta biết rằng với xác suất ít nhất là 1 - $\\displaystyle\\frac{1}{e}$, $x^{*}$ được băm vào ít nhất một trong L thùng mà điểm truy vấn băm vào, tức là tồn tại một hàm băm $g_j$ sao cho $g_j$ $x^{*} = g_j$ (z).\n",
        "Bây giờ, hãy để $W_j$ là tập hợp các điểm dữ liệu được ánh xạ đến cùng một thùng như điểm truy vấn z bằng cách sử dụng hàm băm gj, như được định nghĩa trong phần (a). Hãy để T là tập hợp các điểm dữ liệu cách điểm truy vấn xa hơn cλ. Từ phần (a), chúng ta biết rằng xác suất của ít nhất 3L điểm dữ liệu nằm trong phần giao của T và $W_j$ cho một số j nhỏ hơn hoặc bằng $\\displaystyle\\frac{1}{3}$.\n",
        "Giả sử rằng $x^{*}$ được băm vào ít nhất một trong L thùng mà điểm truy vấn băm vào, chúng ta cần xem xét hai trường hợp:\n",
        "Trường hợp 1: $x^{*}$ không nằm trong phần giao của T và bất kỳ $W_j$ nào. Trong trường hợp này, thuật toán sẽ trả về $x^{*}$, đó là hàng xóm gần nhất thực sự với điểm truy vấn với khoảng cách $d (x^{*}, z) \\le λ$.\n",
        "Trường hợp 2: $x^{*}$ nằm trong phần giao của T và một số $W_j$. Trong trường hợp này, thuật toán có thể trả về một điểm không phải là hàng xóm gần nhất thực sự với điểm truy vấn. Tuy nhiên, xác suất của việc này có thể được giới hạn như sau:\n",
        "Giả sử $Y_j$ là biến chỉ mục có giá trị bằng 1 nếu có ít nhất 3 điểm dữ liệu nằm trong giao của T và $W_j$, và bằng 0 nếu không. Khi đó, xác suất thất bại của thuật toán có thể được biểu diễn như sau:\n",
        "Pr[thuật toán thất bại] = Pr[$x^{*}$ nằm trong giao của T và một số $W_j$] × Pr[thuật toán chọn một điểm không phải $x^{*}$ từ giao này]\n",
        "Sử dụng bất đẳng thức liên hợp và kết quả từ phần (a), ta có:\n",
        "Pr[$x^{*}$ nằm trong giao của T và một số $W_j$] $\\le \\sum_j Pr[Y_j = 1] \\le \\sum_j$ Pr[3L điểm dữ liệu nằm trong T và $W_j$] $\\le L(\\displaystyle\\frac{1}{3}$) = ρlog($\\displaystyle\\frac{1}{p1}$)\n",
        "Ở đây, bất đẳng thức cuối cùng được suy ra từ định nghĩa của ρ trong thủ tục.\n",
        "Giờ đây, giả sử $Z_j$ là biến chỉ mục có giá trị bằng 1 nếu thuật toán chọn một điểm không phải $x^{*}$ từ giao của T và $W_j$, và bằng 0 nếu không. Khi đó, xác suất chọn một điểm không phải $x^{*}$ từ giao của T và $W_j$ có thể được biểu diễn như sau:\n",
        "Pr[thuật toán chọn một điểm không phải $x^{*}$ từ giao này] = $\\sum_j Pr[Z_j = 1]$\n",
        "Vì các điểm dữ liệu được chọn đồng đều ngẫu nhiên từ giao của T và $W_j$, nên xác suất chọn một điểm không phải $x^{*}$ bị chặn dưới bởi $\\displaystyle\\frac{(|T ∩ W_j| - 1)}{|T ∩ W_j|}$. Do đó, ta có:\n",
        "$Pr[Z_j = 1] \\le \\displaystyle\\frac{(|T ∩ W_j| - 1)}{ |T ∩ W_j|} \\le 1 - \\displaystyle\\frac{1}{|T ∩ W_j|}$\n",
        "Sử dụng bất đẳng thức liên hợp một lần nữa, ta có:\n",
        "Pr[thuật toán thất bại] $\\le$ Pr[$x^{*}$ nằm trong giao của T và một số $W_j$] × Pr[thuật toán chọn một điểm không phải $x^{*}$ từ giao này]"
      ]
    },
    {
      "attachments": {},
      "cell_type": "markdown",
      "metadata": {
        "id": "j9R-1NKSbzrS"
      },
      "source": [
        "## Câu d"
      ]
    },
    {
      "cell_type": "code",
      "execution_count": 1,
      "metadata": {
        "id": "jl1JOD7mcWoj"
      },
      "outputs": [],
      "source": [
        "# gắn Google Drive vào Google ColabColab\n",
        "from pydrive.auth import GoogleAuth\n",
        "from pydrive.drive import GoogleDrive\n",
        "from google.colab import auth\n",
        "from oauth2client.client import GoogleCredentials\n",
        "\n",
        "# Authenticate and create the PyDrive client\n",
        "auth.authenticate_user()\n",
        "gauth = GoogleAuth()\n",
        "gauth.credentials = GoogleCredentials.get_application_default()\n",
        "drive = GoogleDrive(gauth)"
      ]
    },
    {
      "cell_type": "code",
      "execution_count": 2,
      "metadata": {
        "colab": {
          "base_uri": "https://localhost:8080/"
        },
        "id": "40OpGh2OcHUA",
        "outputId": "38f5f4c0-81df-4e66-9920-e373d898573c"
      },
      "outputs": [
        {
          "name": "stdout",
          "output_type": "stream",
          "text": [
            "Mounted at /content/drive\n"
          ]
        }
      ],
      "source": [
        "from google.colab import drive\n",
        "drive.mount('/content/drive')\n",
        "\n",
        "from IPython.display import Javascript\n",
        "def resize_colab_cell():\n",
        "  display(Javascript('google.colab.output.setIframeHeight(0, true, {maxHeight: 400})'))\n",
        "get_ipython().events.register('pre_run_cell', resize_colab_cell)"
      ]
    },
    {
      "cell_type": "code",
      "execution_count": 3,
      "metadata": {
        "colab": {
          "base_uri": "https://localhost:8080/",
          "height": 17
        },
        "id": "xCoJAPqKcerL",
        "outputId": "21e29c88-64ac-4020-9608-6ce307f5a82f"
      },
      "outputs": [
        {
          "data": {
            "application/javascript": "google.colab.output.setIframeHeight(0, true, {maxHeight: 400})",
            "text/plain": [
              "<IPython.core.display.Javascript object>"
            ]
          },
          "metadata": {},
          "output_type": "display_data"
        }
      ],
      "source": [
        "import numpy as np\n",
        "#import random\n",
        "import time\n",
        "#import pdb\n",
        "import unittest\n",
        "from PIL import Image"
      ]
    },
    {
      "cell_type": "code",
      "execution_count": 4,
      "metadata": {
        "colab": {
          "base_uri": "https://localhost:8080/",
          "height": 17
        },
        "id": "IRxYwQbZc31k",
        "outputId": "a433d480-2611-475e-bf56-9d3719cb45a2"
      },
      "outputs": [
        {
          "data": {
            "application/javascript": "google.colab.output.setIframeHeight(0, true, {maxHeight: 400})",
            "text/plain": [
              "<IPython.core.display.Javascript object>"
            ]
          },
          "metadata": {},
          "output_type": "display_data"
        }
      ],
      "source": [
        "#tìm khoảng cách L1 giữa 2 vector\n",
        "#u,v là các np.array 1 chiều\n",
        "#TODO: thực hiện\n",
        "def l1(u, v):\n",
        "    return  np.abs(u-v).sum()\n",
        "\n",
        "#nạp dữ liệu vào mảng\n",
        "def load_data(filename):\n",
        "    return np.genfromtxt(filename, delimiter=',')\n",
        "  \n",
        "# tạo hàm băm từ danh sách kích thước chiều và ngưỡng\n",
        "def create_function(dimensions, thresholds):\n",
        "    def f(v):\n",
        "        boolarray = [v[dimensions[i]] >= thresholds[i] for i in range(len(dimensions))]\n",
        "        return \"\".join(map(str, map(int, boolarray)))\n",
        "    return f\n",
        "\n",
        "def create_functions(k, L, num_dimensions=400, min_threshold=0, max_threshold=255):\n",
        "    functions = []\n",
        "    for i in range(L):\n",
        "        dimensions = np.random.randint(low = 0, \n",
        "                                   high = num_dimensions,\n",
        "                                   size = k)\n",
        "        thresholds = np.random.randint(low = min_threshold, \n",
        "                                   high = max_threshold + 1, \n",
        "                                   size = k)\n",
        "\n",
        "        functions.append(create_function(dimensions, thresholds))\n",
        "    return functions\n",
        "\n",
        "def hash_vector(functions, v):\n",
        "    return np.array([f(v) for f in functions])\n",
        "\n",
        "def hash_data(functions, A):\n",
        "    return np.array(list(map(lambda v: hash_vector(functions, v), A)))\n",
        "\n",
        "def get_candidates(hashed_A, hashed_point, query_index):\n",
        "    return filter(lambda i: i != query_index and \\\n",
        "        any(hashed_point == hashed_A[i]), range(len(hashed_A)))\n",
        "\n",
        "def lsh_setup(A, k = 24, L = 10):\n",
        "    functions = create_functions(k = k, L = L)\n",
        "    hashed_A = hash_data(functions, A)\n",
        "    return (functions, hashed_A)\n",
        "\n",
        "def lsh_search(A, hashed_A, functions, query_index, num_neighbors = 10):\n",
        "    hashed_point = hash_vector(functions, A[query_index, :])\n",
        "    candidate_row_nums = get_candidates(hashed_A, hashed_point, query_index)\n",
        "    \n",
        "    distances = map(lambda r: (r, l1(A[r], A[query_index])), candidate_row_nums)\n",
        "    best_neighbors = sorted(distances, key=lambda t: t[1])[:num_neighbors]\n",
        "\n",
        "    return [t[0] for t in best_neighbors]\n",
        "\n",
        "def plot(A, row_nums, base_filename):\n",
        "    for row_num in row_nums:\n",
        "        patch = np.reshape(A[row_num, :], [20, 20])\n",
        "        im = Image.fromarray(patch)\n",
        "        if im.mode != 'RGB':\n",
        "            im = im.convert('RGB')\n",
        "        im.save(base_filename + \"-\" + str(row_num) + \".png\")\n",
        "\n",
        "def linear_search(A, query_index, num_neighbors):\n",
        "    distances=  ( (r, l1(A[r], A[query_index])) for r in   range(len(A))  if r != query_index )\n",
        "    best_neighbors = sorted(distances, key=lambda t: t[1])[:num_neighbors]\n",
        "    \n",
        "    return [t[0] for t in best_neighbors]\n",
        "\n",
        "     #TODO\n",
        "\n",
        "from functools import reduce\n",
        "def measure_error(A,query_index,lsh_result: np.ndarray,linear_result:np.ndarray):\n",
        "    def sub_measure(result): \n",
        "        return reduce(lambda a,b: a+b,\n",
        "                      map(lambda r:  l1(A[r],A[query_index]),result),0. )\n",
        "    return sub_measure(lsh_result)/sub_measure(linear_result)"
      ]
    },
    {
      "cell_type": "code",
      "execution_count": 5,
      "metadata": {
        "colab": {
          "base_uri": "https://localhost:8080/",
          "height": 17
        },
        "id": "dZOC1Rj3c6vU",
        "outputId": "2f350458-c2b5-4c27-a67a-364eb195b5bd"
      },
      "outputs": [
        {
          "data": {
            "application/javascript": "google.colab.output.setIframeHeight(0, true, {maxHeight: 400})",
            "text/plain": [
              "<IPython.core.display.Javascript object>"
            ]
          },
          "metadata": {},
          "output_type": "display_data"
        }
      ],
      "source": [
        "from matplotlib import pyplot as plt\n",
        "\n",
        "def plot_error_change(file_path):   \n",
        "    A= load_data(file_path)\n",
        "    def geterror(k=24,L =10):\n",
        "        error =0.\n",
        "        functions, hashed_A = lsh_setup(A, k = k, L = L)\n",
        "        for query_index in range(100,1100,100):\n",
        "            lsh_result =  lsh_search(A, hashed_A, functions, query_index, num_neighbors = 3)\n",
        "            linear_result =  linear_search( A,query_index,num_neighbors=3)\n",
        "            error += measure_error(A,query_index,lsh_result,linear_result)\n",
        "        return error/10\n",
        "    \n",
        "    \n",
        "    x_L= range(10,22,2)\n",
        "    x_K= range(16,26,2)\n",
        "    y_L= [ geterror(L=l)  for l in x_L ]\n",
        "    y_K= [geterror(k=k)  for k in x_K  ]\n",
        "    plt.subplot(2,1,1)\n",
        "    plt.title('K=24')\n",
        "    plt.xlabel(\"L\")\n",
        "    plt.ylabel(\"error\")\n",
        "    plt.plot(x_L,y_L)\n",
        "    \n",
        "    plt.subplot(2,1,2)\n",
        "    plt.title('L=10')\n",
        "    plt.xlabel(\"K\")\n",
        "    plt.ylabel(\"error\")\n",
        "    plt.plot(x_K,y_K)\n",
        "    plt.show()\n",
        "    return (y_L,y_K)"
      ]
    },
    {
      "cell_type": "code",
      "execution_count": 27,
      "metadata": {
        "colab": {
          "base_uri": "https://localhost:8080/",
          "height": 17
        },
        "id": "UzjsgbGUdBAD",
        "outputId": "6f817fcb-2cc3-4ae3-a42e-557cf658ba55"
      },
      "outputs": [
        {
          "data": {
            "application/javascript": "google.colab.output.setIframeHeight(0, true, {maxHeight: 400})",
            "text/plain": [
              "<IPython.core.display.Javascript object>"
            ]
          },
          "metadata": {},
          "output_type": "display_data"
        }
      ],
      "source": [
        "# TODO: Solve Problem 4\n",
        "def problem4():\n",
        "    y_L ,y_K  =  plot_error_change ('/content/drive/MyDrive/Bigdata /patches.csv')\n",
        "    A= load_data('/content/drive/MyDrive/Bigdata /patches.csv') \n",
        "    functions, hashed_A = lsh_setup(A)\n",
        "    query_index= 100\n",
        "    lsh_result =  lsh_search(A, hashed_A, functions, query_index, num_neighbors = 10)\n",
        "    linear_result =  linear_search( A,query_index,num_neighbors=10)\n",
        "    plot(A,lsh_result,'LSH')\n",
        "    plot(A,linear_result,'LINEAR')  \n",
        "    plot(A,[100],'RAW')\n",
        "\n",
        "    return  y_L ,y_K"
      ]
    },
    {
      "cell_type": "code",
      "execution_count": 7,
      "metadata": {
        "colab": {
          "base_uri": "https://localhost:8080/",
          "height": 400
        },
        "id": "91QP8TdIdPGJ",
        "outputId": "c9e328c4-db24-4f6f-d26b-4ba4ebd678af"
      },
      "outputs": [
        {
          "data": {
            "application/javascript": "google.colab.output.setIframeHeight(0, true, {maxHeight: 400})",
            "text/plain": [
              "<IPython.core.display.Javascript object>"
            ]
          },
          "metadata": {},
          "output_type": "display_data"
        },
        {
          "data": {
            "image/png": "[encoded data removed]",
            "text/plain": [
              "<Figure size 640x480 with 2 Axes>"
            ]
          },
          "metadata": {},
          "output_type": "display_data"
        },
        {
          "data": {
            "text/plain": [
              "([1.0525061881075815,\n",
              "  1.0085382468757083,\n",
              "  1.0151866263455853,\n",
              "  1.017922975455572,\n",
              "  1.0124570741795347,\n",
              "  1.0279193690098112],\n",
              " [1.0016004305807864,\n",
              "  1.0088251068601797,\n",
              "  1.0214301520322917,\n",
              "  1.0088559137534454,\n",
              "  1.0328723233028003])"
            ]
          },
          "execution_count": 7,
          "metadata": {},
          "output_type": "execute_result"
        }
      ],
      "source": [
        "problem4()"
      ]
    },
    {
      "cell_type": "markdown",
      "metadata": {
        "id": "KCOugUXA6BTb"
      },
      "source": [
        "***nhận xét***\n",
        "- Với đồ thị theo L, ta thấy rằng sai số giảm mạnh từ k = 10 đến k = 12, từ k = 12 đến k = 20 sai số biến động nhẹ.\n",
        "- Với đồ thị theo K, ta thấy rằng sai số biến động mạnh theo xu hướng tăng khi giá trị l lên đến 24."
      ]
    },
    {
      "cell_type": "markdown",
      "metadata": {
        "id": "qWffpiiPVx6w"
      },
      "source": [
        "Plot of 10 nearest neighbors nằm trong folder https://drive.google.com/drive/u/0/folders/1qNfgfc5UPcXJKM2YMOgZLZDdk139f2QN "
      ]
    },
    {
      "cell_type": "markdown",
      "metadata": {
        "id": "Cp95OvSbfywY"
      },
      "source": [
        "# **Câu 2: Spark**"
      ]
    },
    {
      "cell_type": "markdown",
      "metadata": {
        "id": "yVXbkS9ikfTy"
      },
      "source": [
        "Viết chương trình Spark triển khai mạng xã hội “Những người bạn có thể biết” đơn giản thuật toán giới thiệu tình bạn. Ý tưởng chính là nếu hai người có nhiều bạn bè, thì hệ thống sẽ khuyến nghị họ kết nối với nhau."
      ]
    },
    {
      "cell_type": "code",
      "execution_count": 9,
      "metadata": {
        "colab": {
          "base_uri": "https://localhost:8080/",
          "height": 400
        },
        "id": "JCoQovCmsJlg",
        "outputId": "0b0e607a-7f3e-44a5-b7b8-d285c6542404"
      },
      "outputs": [
        {
          "data": {
            "application/javascript": "google.colab.output.setIframeHeight(0, true, {maxHeight: 400})",
            "text/plain": [
              "<IPython.core.display.Javascript object>"
            ]
          },
          "metadata": {},
          "output_type": "display_data"
        },
        {
          "name": "stdout",
          "output_type": "stream",
          "text": [
            "Looking in indexes: https://pypi.org/simple, https://us-python.pkg.dev/colab-wheels/public/simple/\n",
            "Collecting pyspark\n",
            "  Downloading pyspark-3.3.2.tar.gz (281.4 MB)\n",
            "\u001b[2K     \u001b[90m━━━━━━━━━━━━━━━━━━━━━━━━━━━━━━━━━━━━━━━\u001b[0m \u001b[32m281.4/281.4 MB\u001b[0m \u001b[31m4.3 MB/s\u001b[0m eta \u001b[36m0:00:00\u001b[0m\n",
            "\u001b[?25h  Preparing metadata (setup.py) ... \u001b[?25l\u001b[?25hdone\n",
            "Collecting py4j==0.10.9.5\n",
            "  Downloading py4j-0.10.9.5-py2.py3-none-any.whl (199 kB)\n",
            "\u001b[2K     \u001b[90m━━━━━━━━━━━━━━━━━━━━━━━━━━━━━━━━━━━━━━\u001b[0m \u001b[32m199.7/199.7 KB\u001b[0m \u001b[31m21.7 MB/s\u001b[0m eta \u001b[36m0:00:00\u001b[0m\n",
            "\u001b[?25hBuilding wheels for collected packages: pyspark\n",
            "  Building wheel for pyspark (setup.py) ... \u001b[?25l\u001b[?25hdone\n",
            "  Created wheel for pyspark: filename=pyspark-3.3.2-py2.py3-none-any.whl size=281824028 sha256=938bf2a38a8fcf738fe26b91d219862ec702fe9f90e970fcb90ebb1dbc850338\n",
            "  Stored in directory: /root/.cache/pip/wheels/6c/e3/9b/0525ce8a69478916513509d43693511463c6468db0de237c86\n",
            "Successfully built pyspark\n",
            "Installing collected packages: py4j, pyspark\n",
            "  Attempting uninstall: py4j\n",
            "    Found existing installation: py4j 0.10.9.7\n",
            "    Uninstalling py4j-0.10.9.7:\n",
            "      Successfully uninstalled py4j-0.10.9.7\n",
            "Successfully installed py4j-0.10.9.5 pyspark-3.3.2\n",
            "The following additional packages will be installed:\n",
            "  openjdk-8-jre-headless\n",
            "Suggested packages:\n",
            "  openjdk-8-demo openjdk-8-source libnss-mdns fonts-dejavu-extra\n",
            "  fonts-ipafont-gothic fonts-ipafont-mincho fonts-wqy-microhei\n",
            "  fonts-wqy-zenhei fonts-indic\n",
            "The following NEW packages will be installed:\n",
            "  openjdk-8-jdk-headless openjdk-8-jre-headless\n",
            "0 upgraded, 2 newly installed, 0 to remove and 23 not upgraded.\n",
            "Need to get 36.5 MB of archives.\n",
            "After this operation, 144 MB of additional disk space will be used.\n",
            "Selecting previously unselected package openjdk-8-jre-headless:amd64.\n",
            "(Reading database ... 128288 files and directories currently installed.)\n",
            "Preparing to unpack .../openjdk-8-jre-headless_8u362-ga-0ubuntu1~20.04.1_amd64.deb ...\n",
            "Unpacking openjdk-8-jre-headless:amd64 (8u362-ga-0ubuntu1~20.04.1) ...\n",
            "Selecting previously unselected package openjdk-8-jdk-headless:amd64.\n",
            "Preparing to unpack .../openjdk-8-jdk-headless_8u362-ga-0ubuntu1~20.04.1_amd64.deb ...\n",
            "Unpacking openjdk-8-jdk-headless:amd64 (8u362-ga-0ubuntu1~20.04.1) ...\n",
            "Setting up openjdk-8-jre-headless:amd64 (8u362-ga-0ubuntu1~20.04.1) ...\n",
            "update-alternatives: using /usr/lib/jvm/java-8-openjdk-amd64/jre/bin/orbd to provide /usr/bin/orbd (orbd) in auto mode\n",
            "update-alternatives: using /usr/lib/jvm/java-8-openjdk-amd64/jre/bin/servertool to provide /usr/bin/servertool (servertool) in auto mode\n",
            "update-alternatives: using /usr/lib/jvm/java-8-openjdk-amd64/jre/bin/tnameserv to provide /usr/bin/tnameserv (tnameserv) in auto mode\n",
            "Setting up openjdk-8-jdk-headless:amd64 (8u362-ga-0ubuntu1~20.04.1) ...\n",
            "update-alternatives: using /usr/lib/jvm/java-8-openjdk-amd64/bin/idlj to provide /usr/bin/idlj (idlj) in auto mode\n",
            "update-alternatives: using /usr/lib/jvm/java-8-openjdk-amd64/bin/wsimport to provide /usr/bin/wsimport (wsimport) in auto mode\n",
            "update-alternatives: using /usr/lib/jvm/java-8-openjdk-amd64/bin/jsadebugd to provide /usr/bin/jsadebugd (jsadebugd) in auto mode\n",
            "update-alternatives: using /usr/lib/jvm/java-8-openjdk-amd64/bin/native2ascii to provide /usr/bin/native2ascii (native2ascii) in auto mode\n",
            "update-alternatives: using /usr/lib/jvm/java-8-openjdk-amd64/bin/javah to provide /usr/bin/javah (javah) in auto mode\n",
            "update-alternatives: using /usr/lib/jvm/java-8-openjdk-amd64/bin/hsdb to provide /usr/bin/hsdb (hsdb) in auto mode\n",
            "update-alternatives: using /usr/lib/jvm/java-8-openjdk-amd64/bin/clhsdb to provide /usr/bin/clhsdb (clhsdb) in auto mode\n",
            "update-alternatives: using /usr/lib/jvm/java-8-openjdk-amd64/bin/xjc to provide /usr/bin/xjc (xjc) in auto mode\n",
            "update-alternatives: using /usr/lib/jvm/java-8-openjdk-amd64/bin/schemagen to provide /usr/bin/schemagen (schemagen) in auto mode\n",
            "update-alternatives: using /usr/lib/jvm/java-8-openjdk-amd64/bin/extcheck to provide /usr/bin/extcheck (extcheck) in auto mode\n",
            "update-alternatives: using /usr/lib/jvm/java-8-openjdk-amd64/bin/jhat to provide /usr/bin/jhat (jhat) in auto mode\n",
            "update-alternatives: using /usr/lib/jvm/java-8-openjdk-amd64/bin/wsgen to provide /usr/bin/wsgen (wsgen) in auto mode\n"
          ]
        }
      ],
      "source": [
        "#cài đặt Spark \n",
        "!pip install pyspark\n",
        "!pip install -U -q PyDrive\n",
        "!apt install openjdk-8-jdk-headless -qq\n",
        "import os\n",
        "os.environ[\"JAVA_HƠME\"] = \"/usr/lib/jvm/java-8-openjdk-amd64\""
      ]
    },
    {
      "cell_type": "code",
      "execution_count": 10,
      "metadata": {
        "colab": {
          "base_uri": "https://localhost:8080/",
          "height": 17
        },
        "id": "Ei3t5pslsXzX",
        "outputId": "264c85ff-0a6a-494b-8e40-5b0f135fbfad"
      },
      "outputs": [
        {
          "data": {
            "application/javascript": "google.colab.output.setIframeHeight(0, true, {maxHeight: 400})",
            "text/plain": [
              "<IPython.core.display.Javascript object>"
            ]
          },
          "metadata": {},
          "output_type": "display_data"
        }
      ],
      "source": [
        "#import các thư viện cần dùng\n",
        "import pandas as pd\n",
        "import numpy as np\n",
        "import matplotlib.pyplot as plt\n",
        "%matplotlib inline\n",
        "import itertools\n",
        "\n",
        "import pyspark\n",
        "from pyspark.sql import *\n",
        "from pyspark.sql.functions import *\n",
        "from pyspark import SparkConf, SparkContext\n",
        "from pyspark.sql import SparkSession "
      ]
    },
    {
      "cell_type": "code",
      "execution_count": 11,
      "metadata": {
        "colab": {
          "base_uri": "https://localhost:8080/",
          "height": 219
        },
        "id": "hS_-R5DRse_K",
        "outputId": "e36e8d83-34f4-4af4-fa8e-efc277c82a3c"
      },
      "outputs": [
        {
          "data": {
            "application/javascript": "google.colab.output.setIframeHeight(0, true, {maxHeight: 400})",
            "text/plain": [
              "<IPython.core.display.Javascript object>"
            ]
          },
          "metadata": {},
          "output_type": "display_data"
        },
        {
          "data": {
            "text/html": [
              "\n",
              "            <div>\n",
              "                <p><b>SparkSession - in-memory</b></p>\n",
              "                \n",
              "        <div>\n",
              "            <p><b>SparkContext</b></p>\n",
              "\n",
              "            <p><a href=\"http://0a5728d5d070:4050\">Spark UI</a></p>\n",
              "\n",
              "            <dl>\n",
              "              <dt>Version</dt>\n",
              "                <dd><code>v3.3.2</code></dd>\n",
              "              <dt>Master</dt>\n",
              "                <dd><code>local[*]</code></dd>\n",
              "              <dt>AppName</dt>\n",
              "                <dd><code>pyspark-shell</code></dd>\n",
              "            </dl>\n",
              "        </div>\n",
              "        \n",
              "            </div>\n",
              "        "
            ],
            "text/plain": [
              "<pyspark.sql.session.SparkSession at 0x7fc165328910>"
            ]
          },
          "execution_count": 11,
          "metadata": {},
          "output_type": "execute_result"
        }
      ],
      "source": [
        "# tạo session\n",
        "conf = SparkConf().set(\"spark.ui.port\", \"4050\")\n",
        "# tạo context\n",
        "sc = SparkContext(conf=conf)\n",
        "spark = SparkSession.builder.getOrCreate()\n",
        "spark"
      ]
    },
    {
      "cell_type": "code",
      "execution_count": 12,
      "metadata": {
        "colab": {
          "base_uri": "https://localhost:8080/",
          "height": 17
        },
        "id": "5hQPkFX7shzQ",
        "outputId": "8440817f-460b-496a-adce-328c0400e785"
      },
      "outputs": [
        {
          "data": {
            "application/javascript": "google.colab.output.setIframeHeight(0, true, {maxHeight: 400})",
            "text/plain": [
              "<IPython.core.display.Javascript object>"
            ]
          },
          "metadata": {},
          "output_type": "display_data"
        }
      ],
      "source": [
        "def recommend_friends(user_id):\n",
        "    split = user_id.split()\n",
        "    user_id = int(split[0])\n",
        "    if len(split) == 1:\n",
        "        friends = []\n",
        "    else:\n",
        "        friends = list(map(lambda x: int(x), split[1].split(',')))\n",
        "    return user_id, friends\n",
        "\n",
        "def friend_ownership_to_connection(f_o):\n",
        "    user_id = f_o[0]\n",
        "    friends = f_o[1]\n",
        "    connections = []\n",
        "    for friend_id in friends:\n",
        "        key = (user_id, friend_id)\n",
        "        if user_id > friend_id:\n",
        "            key = (friend_id, user_id)\n",
        "        connections.append((key, 0))  # họ là bạn, value=0\n",
        "    for friend_pair in itertools.combinations(friends, 2):\n",
        "        friend_0 = friend_pair[0]\n",
        "        friend_1 = friend_pair[1]\n",
        "        key = (friend_0, friend_1)\n",
        "        if friend_0 > friend_1:\n",
        "            key = (friend_1, friend_0)\n",
        "        connections.append((key, 1))  # họ có bạn chung, value=1\n",
        "    return connections\n",
        "\n",
        "def mutual_friend_count_to_recommendation(f):\n",
        "    pair = f[0]\n",
        "    friend0 = pair[0]\n",
        "    friend1 = pair[1]\n",
        "    noMutFriends = f[1]\n",
        "    rec0 = (friend0, (friend1, noMutFriends))\n",
        "    rec1 = (friend1, (friend0, noMutFriends))\n",
        "    return [rec0, rec1]\n",
        "\n",
        "def recommendation_to_sorted_truncated(recs):\n",
        "    recs.sort(key=lambda x: (-x[1], x[0]))\n",
        "    return list(map(lambda x: x[0], recs))[:10]"
      ]
    },
    {
      "cell_type": "code",
      "execution_count": 14,
      "metadata": {
        "colab": {
          "base_uri": "https://localhost:8080/",
          "height": 191
        },
        "id": "n0p_PYFAsqEr",
        "outputId": "c069f507-9537-4c4f-a0a0-834677fef124"
      },
      "outputs": [
        {
          "data": {
            "application/javascript": "google.colab.output.setIframeHeight(0, true, {maxHeight: 400})",
            "text/plain": [
              "<IPython.core.display.Javascript object>"
            ]
          },
          "metadata": {},
          "output_type": "display_data"
        },
        {
          "name": "stdout",
          "output_type": "stream",
          "text": [
            "User 924  Recommendations: [439, 2409, 6995, 11860, 15416, 43748, 45881]\n",
            "User 8941  Recommendations: [8943, 8944, 8940]\n",
            "User 8942  Recommendations: [8939, 8940, 8943, 8944]\n",
            "User 9019  Recommendations: [9022, 317, 9023]\n",
            "User 9020  Recommendations: [9021, 9016, 9017, 9022, 317, 9023]\n",
            "User 9021  Recommendations: [9020, 9016, 9017, 9022, 317, 9023]\n",
            "User 9022  Recommendations: [9019, 9020, 9021, 317, 9016, 9017, 9023]\n",
            "User 9990  Recommendations: [13134, 13478, 13877, 34299, 34485, 34642, 37941]\n",
            "User 9992  Recommendations: [9987, 9989, 35667, 9991]\n",
            "User 9993  Recommendations: [9991, 13134, 13478, 13877, 34299, 34485, 34642, 37941]\n"
          ]
        }
      ],
      "source": [
        "# đọc dữ liệu dừ file\n",
        "lines = sc.textFile(\"/content/drive/MyDrive/Bigdata /soc-LiveJournal1Adj.txt\")\n",
        "\n",
        "friend_ownership = lines.map(recommend_friends).filter(lambda friend: '' != friend[1])\n",
        "#Map friend ownerships tới các ((user_id, friend_id), VALUE).\n",
        "# VALUE = 0 => các cặp đã là bạn bè.\n",
        "# VALUE = 1 => các cặp có bạn chung.\n",
        "friend_edges = friend_ownership.flatMap(friend_ownership_to_connection)\n",
        "friend_edges.cache() \n",
        "\n",
        "# lọc ra các cặp đã là bạn\n",
        "mutual_friend = friend_edges.groupByKey() \\\n",
        "    .filter(lambda edge: 0 not in edge[1]) \\\n",
        "    .flatMap(lambda x: [(x[0],item) for item in x[1]]) # flat it to count total mutual friends No; use map directly causes bugs\n",
        "\n",
        "# đếm những người bạn chung bằng cách cộng các giá trị\n",
        "mutual_friend_counts = mutual_friend.reduceByKey( lambda x,y : x+y)\n",
        "\n",
        "# tạo các đề xuất, nhóm chúng theo key, sau đó sắp xếp \n",
        "rcms = mutual_friend_counts.flatMap(mutual_friend_count_to_recommendation).groupByKey() \n",
        "\n",
        "# 10 người bạn được đề xuất cao nhất.\n",
        "rcm10 = rcms.map(lambda m: (m[0], recommendation_to_sorted_truncated(list(m[1])))).sortByKey() \n",
        "\n",
        "# đề xuất đối vói các ID sau: 924, 8941, 8942, 9019, 9020, 9021, 9022, 9990, 9992, 9993.\n",
        "results = rcm10.filter(lambda x: x[0] in [924, 8941, 8942, 9019, 9020, 9021, 9022, 9990, 9992, 9993]).collect()\n",
        "for user_id, friends in results:\n",
        "  print(f\"User {user_id}  Recommendations: {friends}\")"
      ]
    },
    {
      "attachments": {},
      "cell_type": "markdown",
      "metadata": {
        "id": "DHAhbP7gzoLO"
      },
      "source": [
        "# **Câu 3:  Association Rules**"
      ]
    },
    {
      "cell_type": "markdown",
      "metadata": {
        "id": "BhjQXlSNztG7"
      },
      "source": [
        "## Câu a: Một nhược điểm của việc sử dụng độ tin cậy là nó bỏ qua Pr(B). Tại sao đây là một nhược điểm? Giải thích tại sao lift và conviction không bị nhược điểm này."
      ]
    },
    {
      "cell_type": "markdown",
      "metadata": {
        "id": "j1dTqDGazy5z"
      },
      "source": [
        "*Nhược điểm:* Confidence có sự bất cập là vì nó đã bỏ qua xác suất của Pr(B). Đôi khi Confidence có kết quả cao do tập mục A của luật kết hợp tương đối cao (ví dụ một cửa hàng bán quá nhiều A nhưng B lại ít thì Confidence tương đối cao), mà không phải do có mối quan hệ giữa 2 tập mục A và B.\n",
        "\n",
        "Theo đề bài, conf(A → B) = Pr(B|A). Trong đó, Pr(B|A) là xác suất có điều kiện của việc tìm thấy B nếu có A, công thức Pr(B|A) = $\\frac{Pr(A ∩ B)}{Pr(A)}$. Ví dụ ta có luật kết hợp A -> B, một cửa hàng bán 20 mặt hàng A và 100 mặt hàng B trong tổng số 1000 mặt hàng. Nhìn vào tử số thấy được Pr(A ∩ B) = $\\frac{20}{1000}$ và mẫu số Pr(A) = $\\frac{20}{1000}$, nên suy ra Confidence của luật kết hợp này bằng 1 nhưng nó lại không thể hiện mối quan hệ có ý nghĩa giữa mặt hàng A và mặt hàng B, mặt khác nó chỉ cho thấy B xuất hiện nhiều hơn A, mà Pr(B) =$\\frac{100}{1000}$ đã bị bỏ qua trong công thức.\n",
        "\n",
        "Trong khi Lift và Conviction lại có xác suất của cả 2 tập mục A và B trong công thức lift(A → B) = $\\frac{conf(A → B)}{S(B)}$ (conf có Pr(A) và S(B) = Pr(B)), tương tự với công thức conv, conv(A → B) = $\\frac{(1 − S(B)}{1 − conf(A → B)}$. Lấy một ví dụ minh họa về Lift và số liệu từ phần trên thì ta được Lift = 10, tức tỉ lệ 10:1, chứng tỏ A và B có mối quan hệ liên quan với nhau. Điều này giúp cho công thức có thể tránh được vấn đề thiên vị so với Confidence (Confidence đã loại bỏ Pr(B) khỏi công thức)."
      ]
    },
    {
      "attachments": {},
      "cell_type": "markdown",
      "metadata": {
        "id": "m7SwPPjD1Hea"
      },
      "source": [
        "## Câu b: Một thước đo là đối xứng nếu thước đo (A → B) = thước đo (B → A). Biện pháp nào trình bày ở đây là đối xứng? Đối với mỗi biện pháp, cung cấp bằng chứng cho thấy biện pháp thước đo là đối xứng hoặc một ví dụ phản chứng cho thấy thước đo không đối xứng."
      ]
    },
    {
      "cell_type": "markdown",
      "metadata": {
        "id": "h6zLtygv1Lmp"
      },
      "source": [
        "Lift là đối xứng (luật A→B = luật B→A), còn Confidence và Conviction thì không phải. Ta suy ra từ công thức:\n",
        "\n",
        "lift(A→B) = lift(B→A) = $\\frac{Pr(A ∩ B)}{Pr(A) x Pr(B)}$.\n",
        "\n",
        "1. conf(A→B) = Pr(B|A) và conf(B→A) = Pr(A|B).\n",
        "2. Pr(A|B) và Pr(B|A) có thể khác nhau.\n",
        "3. conv dựa trên conf và có tính định hướng.\n",
        "\n",
        "*Ví dụ:* Nếu ta có các rổ AB, AC, AD, AE thì S(A) = 4/4, S(B) = 1/4 và Pr(A ∩ B) = 1/4. Khi đó conf(A→B) = Pr(B|A) ≠ Pr(A|B) = conf(B→A) vì: ${1/4 \\choose 4/4}$ ≠ $\\frac{1/44}{4}$. Tương tự, conv(A→B) = $\\frac{1 − S(B)}{1 − conf(A→B)}$ ≠ $\\frac{1 − S(A)}{1 − conf(B→A)}$ = conv(B→A) vì: $\\frac{1 − \\frac{1}{4}}{1 − \\frac{1}{4}}$ = 1 # $\\frac{1 − \\frac{4}{4}}{1 − 1}$= inf. Vậy nên, chỉ có công thức Lift thỏa mãn được luật A→B = luật B→A."
      ]
    },
    {
      "attachments": {},
      "cell_type": "markdown",
      "metadata": {
        "id": "avvzmGML2qsb"
      },
      "source": [
        "## Câu c: Hàm ý hoàn hảo là các quy tắc nắm giữ 100% thời gian (hoặc tương đương, các quy tắc liên quan xác suất có điều kiện là 1). Một biện pháp là mong muốn nếu nó đạt đến mức tối đa có thể đạt được giá trị cho tất cả các hàm ý hoàn hảo. Điều này giúp dễ dàng xác định các quy tắc tốt nhất. Cái nào trong số biện pháp trên có tính chất này? Bạn có thể bỏ qua 0/0 nhưng không thể bỏ qua các trường hợp vô cực khác. Giải thích bằng một ví dụ."
      ]
    },
    {
      "cell_type": "markdown",
      "metadata": {
        "id": "uo1CoMC52u-e"
      },
      "source": [
        "Conviction và oConfidence thỏa mãn được trong khi Lift thì không. Nếu B xảy ra mỗi thời điểm A xảy ra (nghĩa là Pr(B|A) = 1) thì:\n",
        "\n",
        "1. conf(A→B) = 1\n",
        "2. conv(A→B)→infinity\n",
        "3. lift(A→B) phụ thuộc vào giá trị của Pr(B) và có thể khác vì B có thể xảy ra trong các giỏ không có A. Ví dụ: Nếu chúng ta có các rổ AB, AB, CD, EF thì Pr(B|A) = 1, S(B) = $\\frac{1}{2}$, Pr(D|C) = 1, và S(D) = $\\frac{1}{4}$. Sau đó, lift(A→B) = $\\frac{1}{\\frac{1}{2}}$ = 2 và lift(C→D) = $\\frac{1}{\\frac{1}{4}}$ = 4. Mặc dù cả hai quy tắc đều là quy tắc 100% nhưng chúng có tỉ lệ Lift khác nhau."
      ]
    },
    {
      "cell_type": "markdown",
      "metadata": {
        "id": "JWVSt_a-3aiM"
      },
      "source": [
        "## Câu d: Top 5 rules with confidence scores"
      ]
    },
    {
      "cell_type": "code",
      "execution_count": 15,
      "metadata": {
        "colab": {
          "base_uri": "https://localhost:8080/",
          "height": 17
        },
        "id": "-G1l_17hzhiD",
        "outputId": "e7becef5-3a8d-4ca4-d3d3-060acff6a1fa"
      },
      "outputs": [
        {
          "data": {
            "application/javascript": "google.colab.output.setIframeHeight(0, true, {maxHeight: 400})",
            "text/plain": [
              "<IPython.core.display.Javascript object>"
            ]
          },
          "metadata": {},
          "output_type": "display_data"
        }
      ],
      "source": [
        "from functools import partial\n",
        "from itertools import combinations"
      ]
    },
    {
      "cell_type": "code",
      "execution_count": 21,
      "metadata": {
        "colab": {
          "base_uri": "https://localhost:8080/",
          "height": 225
        },
        "id": "lWmdB6Ew3lAx",
        "outputId": "bce1c716-9296-43a7-bd17-ad9c51193fcb"
      },
      "outputs": [
        {
          "data": {
            "application/javascript": "google.colab.output.setIframeHeight(0, true, {maxHeight: 400})",
            "text/plain": [
              "<IPython.core.display.Javascript object>"
            ]
          },
          "metadata": {},
          "output_type": "display_data"
        },
        {
          "name": "stdout",
          "output_type": "stream",
          "text": [
            "Top 5 rules with confidence scores\n",
            "+--------------------+------------------+\n",
            "|      items (X => Y)|   confident score|\n",
            "+--------------------+------------------+\n",
            "|{DAI93865, FRO40251}|               1.0|\n",
            "|{GRO85051, FRO40251}| 0.999176276771005|\n",
            "|{GRO38636, FRO40251}|0.9906542056074766|\n",
            "|{ELE12951, FRO40251}|0.9905660377358491|\n",
            "|{DAI88079, FRO40251}|0.9867256637168141|\n",
            "+--------------------+------------------+\n",
            "only showing top 5 rows\n",
            "\n"
          ]
        }
      ],
      "source": [
        "if __name__=='__main__':\n",
        "    spark = SparkSession.builder.getOrCreate()\n",
        "    sc = spark.sparkContext\n",
        "    lines=sc.textFile('/content/drive/MyDrive/Bigdata /browsing.txt')\n",
        "\n",
        "    frequent_items=lines.flatMap(lambda l:l.split()).map(lambda ele:(ele,1)).\\\n",
        "        reduceByKey(lambda e1,e2:e1+e2).filter(lambda x:x[1]>=100)\n",
        "\n",
        "    frequent_itemset=frequent_items.collectAsMap()\n",
        "\n",
        "    frequent_pairs = lines.map(lambda l: l.split()).flatMap(partial(combinations, r=2)).map(lambda pair: sorted(pair)) \\\n",
        "        .map(lambda pair: (tuple(pair), 1)).filter(\n",
        "        lambda ele: ele[0][0] in frequent_itemset and ele[0][1] in frequent_itemset).reduceByKey(\n",
        "        lambda p1, p2: p1 + p2).filter(lambda x: x[1] >= 100)\n",
        "\n",
        "    freq_pairs_count=frequent_pairs.collectAsMap()\n",
        "\n",
        "    frequent_pairs=frequent_pairs.flatMap(lambda ele:[((ele[0][0],ele[0][1]),ele[1]),((ele[0][1],ele[0][0]),ele[1])])\n",
        "\n",
        "    frequent_pair_conf=frequent_pairs.map(lambda ele:(ele[0],float(ele[1]/frequent_itemset[ele[0][0]]))).sortBy(lambda x:-x[1])\n",
        "\n",
        "    result = frequent_pair_conf.toDF()\n",
        "\n",
        "    result = result.withColumnRenamed(\"_1\", \"items (X => Y)\" )\n",
        "    result = result.withColumnRenamed(\"_2\", \"confident score\")\n",
        "    print (\"Top 5 rules with confidence scores\")\n",
        "    result.show(5)\n"
      ]
    },
    {
      "cell_type": "markdown",
      "metadata": {
        "id": "BAhOcY4HEbYK"
      },
      "source": [
        "##Câu e: Top 5 rules with confidence scores"
      ]
    },
    {
      "cell_type": "code",
      "execution_count": 29,
      "metadata": {
        "colab": {
          "base_uri": "https://localhost:8080/",
          "height": 225
        },
        "id": "UY4cilZB33f1",
        "outputId": "eeea87e7-298a-43d2-e145-9ac750f870ec"
      },
      "outputs": [
        {
          "data": {
            "application/javascript": "google.colab.output.setIframeHeight(0, true, {maxHeight: 400})",
            "text/plain": [
              "<IPython.core.display.Javascript object>"
            ]
          },
          "metadata": {},
          "output_type": "display_data"
        },
        {
          "name": "stdout",
          "output_type": "stream",
          "text": [
            "Top 5 rules with confidence scores\n",
            "+--------------------+--------+---------------+\n",
            "|         items (X,Y)| items Z|confident score|\n",
            "+--------------------+--------+---------------+\n",
            "|{DAI23334, ELE92920}|DAI62779|            1.0|\n",
            "|{DAI31081, GRO85051}|FRO40251|            1.0|\n",
            "|{DAI55911, GRO85051}|FRO40251|            1.0|\n",
            "|{DAI62779, DAI88079}|FRO40251|            1.0|\n",
            "|{DAI75645, GRO85051}|FRO40251|            1.0|\n",
            "+--------------------+--------+---------------+\n",
            "only showing top 5 rows\n",
            "\n"
          ]
        }
      ],
      "source": [
        "triples=lines.map(lambda l:l.split()).flatMap(partial(combinations,r=3)).map(lambda triple:tuple(list(sorted(triple))))\n",
        "\n",
        "triples=triples.map(lambda triple:(triple,1)).reduceByKey(lambda t1,t2:t1+t2).filter(lambda x:x[1]>=100)\n",
        "\n",
        "freq_triples_conf=triples.flatMap(lambda ele:[(((ele[0][0],ele[0][1]),ele[0][2]),ele[1]),\n",
        "                                                  (((ele[0][0],ele[0][2]),ele[0][1]),ele[1]),\n",
        "                                                  (((ele[0][1],ele[0][2]),ele[0][0]),ele[1])])\\\n",
        ".reduceByKey(lambda t1,t2:t1+t2).map(lambda ele:(ele[0],ele[1]/freq_pairs_count[ele[0][0]])).sortBy(lambda x:(-x[1],x[0][0],x[0][1]))\\\n",
        "                        .map(lambda ele:(ele[0][0],ele[0][1],ele[1]))\n",
        "\n",
        "data = freq_triples_conf.toDF()\n",
        "data = data.withColumnRenamed(\"_1\", \"items (X,Y)\" )\n",
        "data = data.withColumnRenamed(\"_2\", \"items Z\" )\n",
        "data = data.withColumnRenamed(\"_3\", \"confident score\")\n",
        "print(\"Top 5 rules with confidence scores\")\n",
        "data.show(5) "
      ]
    },
    {
      "attachments": {},
      "cell_type": "markdown",
      "metadata": {
        "id": "Y6eiHmRhHFiE"
      },
      "source": [
        "# **Câu 4: Locality-Sensitive Hashing**"
      ]
    },
    {
      "attachments": {},
      "cell_type": "markdown",
      "metadata": {
        "id": "-7zod9c7a6MY"
      },
      "source": [
        "## Câu a, b: Giả sử một cột có m 1's và do đó n − m 0's, và chúng tôi chọn ngẫu nhiên k hàng để cân nhắc khi tính toán minhash. Chứng minh rằng xác suất nhận được “don't know” vì giá trị minhash cho cột này nhiều nhất là  (n−kn)m \n",
        "\n",
        "Giả sử chúng ta muốn xác suất “don't know” tối đa là  e−10 . Giả sử n và m đều rất lớn (nhưng n lớn hơn nhiều so với m hoặc k), hãy đưa ra một xấp xỉ đơn giản cho giá trị nhỏ nhất của k sẽ đảm bảo xác suất này tối đa là  e−10 . Biểu hiện của bạn nên là một hàm của n và m."
      ]
    },
    {
      "cell_type": "markdown",
      "metadata": {
        "id": "oWT18ZsGHP8e"
      },
      "source": [
        "Số cột có m phần tử 1 trên tổng số n cột là ${n \\choose m}$. Số lượng cột đó mà không có số 1 trong & hàng được chọn là ${n-k \\choose m}$.\n",
        "Xác suất để chọn được cột đó là: $\\displaystyle\\frac{n-k \\choose m}{n \\choose m}$.\n",
        "Do đó, xác suất để đạt được \"don't know\" khi minhashing cho cột đó là 1 trên tổng số ${n \\choose m}$ trường hợp cột, tức là:\n",
        "\n",
        "P(don't know)=${\\displaystyle\\frac{(n-k) \\choose m}{n\\choose m}}$ + $\\displaystyle\\frac{(n-k)!m!(n-m)!}{m!(n-k-m)!n!}$+ $\\displaystyle\\frac{(n-k)*(n-k-1)...(n-k-m+1)} {n*(n-1)...(n-m+1)}$\n",
        "Để giới hạn xác suất này, ta có thể sử dụng bất đẳng thức AM- GM:\n",
        "$\\displaystyle\\frac{(n - k) + (n - k - 1) + \\cdots + (n - k - m + 1)}{m} \\ge \\sqrt[m]{(n - k) * (n - k - 1) \\cdots (n - k - m + 1}$\n",
        "\n",
        "Hay:\n",
        "$(n - k - m + 1)*(n - k - m + 2)\\cdots(n - k) \\le (\\displaystyle\\frac{n - k}{m})^m $n^m$\n",
        "\n",
        "Do đó:\n",
        "\n",
        "$P(\\text{don't know}) = \\displaystyle\\frac{(n -k)*(n -k-1)\\cdots(n -k-m + 1)}{n*(n-1)\\cdots(n-m+1)} \\le (\\displaystyle\\frac{n - k}{n})^m$\n",
        "\n",
        "Vì vậy, xác suất tối đa để đạt được \"don't know\" là $\\left(\\frac{n-k}{n}\\right)^m$.\n",
        "\n",
        "Với giá trị $e^{-10}$, ta có: $(\\displaystyle\\frac{n-k}{n})^m \\le e^{-10}$\n",
        "\n",
        "Tương đương với: $(1 - \\displaystyle\\frac{k}{n})^m \\le e^{-10}$\n",
        "\n",
        "Do $1-x \\le e^{-x}$, ta có: $x^{\\displaystyle\\frac{-km}{n}} = e^{-10}$"
      ]
    },
    {
      "attachments": {},
      "cell_type": "markdown",
      "metadata": {
        "id": "ThbEFvU4ZWhU"
      },
      "source": [
        "## Câu c: Câu hỏi đưa ra yêu cầu chúng ta cung cấp một ví dụ về hai cột (tương ứng với hai tập hợp) sao cho xác suất để giá trị minhash của chúng giống nhau không bằng giá trị của hệ số tương đồng Jaccard của chúng, khi ta chỉ xem xét các hoán vị tuần hoàn."
      ]
    },
    {
      "cell_type": "markdown",
      "metadata": {
        "id": "JY6qGrDXZeyy"
      },
      "source": [
        "Hai cột (tập hợp) là:\n",
        "\n",
        "$[0  1  0]^{T}$ và $[0  1  1]^{T}$\n",
        "(b) Giá trị hệ số tương đồng Jaccard giữa S1 và S2 là:\n",
        "\n",
        "J(S1, S2) = |S1 ∩ S2| / |S1 ∪ S2| = $\\frac{1}{2}$\n",
        "(c) Xác suất để một hoán vị tuần hoàn ngẫu nhiên cho giá trị minhash giống nhau cho cả S1 và S2 là:\n",
        "\n",
        "P(minhash(S1) = minhash(S2) | cyclic permutations) = $\\frac{2}{3}$\n",
        "\n",
        "Giải thích:\n",
        "\n",
        "Khi chỉ xem xét các hoán vị tuần hoàn, chỉ có ba hoán vị có thể xảy ra: (1,2,3), (2,3,1), và (3,1,2). Nếu chúng ta bắt đầu chu kỳ tại hàng đầu tiên hoặc thứ hai (1 hoặc 2), giá trị minhash của S1 và S2 sẽ giống nhau. Tuy nhiên, nếu chúng ta bắt đầu chu kỳ tại hàng cuối cùng (3), giá trị minhash sẽ khác nhau. Do đó, xác suất của giá trị minhash giống nhau là $\\frac{2}{3}$."
      ]
    }
  ],
  "metadata": {
    "colab": {
      "provenance": [],
      "toc_visible": true
    },
    "kernelspec": {
      "display_name": "Python 3",
      "name": "python3"
    },
    "language_info": {
      "name": "python"
    }
  },
  "nbformat": 4,
  "nbformat_minor": 0
}
